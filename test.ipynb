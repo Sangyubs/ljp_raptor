{
 "cells": [
  {
   "cell_type": "code",
   "execution_count": 1,
   "metadata": {},
   "outputs": [
    {
     "data": {
      "text/plain": [
       "'g:\\\\내 드라이브\\\\4. paper\\\\ljp_raptor\\\\code'"
      ]
     },
     "execution_count": 1,
     "metadata": {},
     "output_type": "execute_result"
    }
   ],
   "source": [
    "import pandas as pd\n",
    "import os\n",
    "os.getcwd()"
   ]
  },
  {
   "cell_type": "code",
   "execution_count": 15,
   "metadata": {},
   "outputs": [
    {
     "data": {
      "text/html": [
       "<div>\n",
       "<style scoped>\n",
       "    .dataframe tbody tr th:only-of-type {\n",
       "        vertical-align: middle;\n",
       "    }\n",
       "\n",
       "    .dataframe tbody tr th {\n",
       "        vertical-align: top;\n",
       "    }\n",
       "\n",
       "    .dataframe thead th {\n",
       "        text-align: right;\n",
       "    }\n",
       "</style>\n",
       "<table border=\"1\" class=\"dataframe\">\n",
       "  <thead>\n",
       "    <tr style=\"text-align: right;\">\n",
       "      <th></th>\n",
       "      <th>article_id</th>\n",
       "      <th>title</th>\n",
       "      <th>content</th>\n",
       "      <th>raw_text</th>\n",
       "      <th>character_count</th>\n",
       "      <th>article_raw_id</th>\n",
       "      <th>중분류</th>\n",
       "      <th>소분류</th>\n",
       "      <th>full_text</th>\n",
       "    </tr>\n",
       "  </thead>\n",
       "  <tbody>\n",
       "    <tr>\n",
       "      <th>0</th>\n",
       "      <td>제87조</td>\n",
       "      <td>내란</td>\n",
       "      <td>대한민국 영토의 전부 또는 일부에서 국가권력을 배제하거나 국헌을 문란하게 할 목적으...</td>\n",
       "      <td>내란 : 대한민국 영토의 전부 또는 일부에서 국가권력을 배제하거나 국헌을 문란하게 ...</td>\n",
       "      <td>274</td>\n",
       "      <td>87</td>\n",
       "      <td>국가 존립과 권위에 대한 죄</td>\n",
       "      <td>내란의 죄</td>\n",
       "      <td>조항번호 : 제87조\\n조문명 : 내란\\n조문내용 : 대한민국 영토의 전부 또는 일...</td>\n",
       "    </tr>\n",
       "    <tr>\n",
       "      <th>1</th>\n",
       "      <td>제88조</td>\n",
       "      <td>내란목적의 살인</td>\n",
       "      <td>대한민국 영토의 전부 또는 일부에서 국가권력을 배제하거나 국헌을 문란하게 할 목적으...</td>\n",
       "      <td>내란목적의 살인 : 대한민국 영토의 전부 또는 일부에서 국가권력을 배제하거나 국헌을...</td>\n",
       "      <td>92</td>\n",
       "      <td>88</td>\n",
       "      <td>국가 존립과 권위에 대한 죄</td>\n",
       "      <td>내란의 죄</td>\n",
       "      <td>조항번호 : 제88조\\n조문명 : 내란목적의 살인\\n조문내용 : 대한민국 영토의 전...</td>\n",
       "    </tr>\n",
       "    <tr>\n",
       "      <th>2</th>\n",
       "      <td>제89조</td>\n",
       "      <td>미수범</td>\n",
       "      <td>전2조의 미수범은 처벌한다.</td>\n",
       "      <td>미수범 : 전2조의 미수범은 처벌한다.</td>\n",
       "      <td>21</td>\n",
       "      <td>89</td>\n",
       "      <td>국가 존립과 권위에 대한 죄</td>\n",
       "      <td>내란의 죄</td>\n",
       "      <td>조항번호 : 제89조\\n조문명 : 미수범\\n조문내용 : 전2조의 미수범은 처벌한다.</td>\n",
       "    </tr>\n",
       "    <tr>\n",
       "      <th>3</th>\n",
       "      <td>제90조</td>\n",
       "      <td>예비, 음모, 선동, 선전</td>\n",
       "      <td>①제87조 또는 제88조의 죄를 범할 목적으로 예비 또는 음모한 자는 3년 이상의 ...</td>\n",
       "      <td>예비, 음모, 선동, 선전 : ①제87조 또는 제88조의 죄를 범할 목적으로 예비 ...</td>\n",
       "      <td>178</td>\n",
       "      <td>90</td>\n",
       "      <td>국가 존립과 권위에 대한 죄</td>\n",
       "      <td>내란의 죄</td>\n",
       "      <td>조항번호 : 제90조\\n조문명 : 예비, 음모, 선동, 선전\\n조문내용 : ①제87...</td>\n",
       "    </tr>\n",
       "    <tr>\n",
       "      <th>4</th>\n",
       "      <td>제91조</td>\n",
       "      <td>국헌문란의 정의</td>\n",
       "      <td>본장에서 국헌을 문란할 목적이라 함은 다음 각호의 1에 해당함을 말한다.\\n  1....</td>\n",
       "      <td>국헌문란의 정의 : 본장에서 국헌을 문란할 목적이라 함은 다음 각호의 1에 해당함을...</td>\n",
       "      <td>160</td>\n",
       "      <td>91</td>\n",
       "      <td>국가 존립과 권위에 대한 죄</td>\n",
       "      <td>내란의 죄</td>\n",
       "      <td>조항번호 : 제91조\\n조문명 : 국헌문란의 정의\\n조문내용 : 본장에서 국헌을 문...</td>\n",
       "    </tr>\n",
       "  </tbody>\n",
       "</table>\n",
       "</div>"
      ],
      "text/plain": [
       "  article_id           title  \\\n",
       "0       제87조              내란   \n",
       "1       제88조        내란목적의 살인   \n",
       "2       제89조             미수범   \n",
       "3       제90조  예비, 음모, 선동, 선전   \n",
       "4       제91조        국헌문란의 정의   \n",
       "\n",
       "                                             content  \\\n",
       "0  대한민국 영토의 전부 또는 일부에서 국가권력을 배제하거나 국헌을 문란하게 할 목적으...   \n",
       "1  대한민국 영토의 전부 또는 일부에서 국가권력을 배제하거나 국헌을 문란하게 할 목적으...   \n",
       "2                                    전2조의 미수범은 처벌한다.   \n",
       "3  ①제87조 또는 제88조의 죄를 범할 목적으로 예비 또는 음모한 자는 3년 이상의 ...   \n",
       "4  본장에서 국헌을 문란할 목적이라 함은 다음 각호의 1에 해당함을 말한다.\\n  1....   \n",
       "\n",
       "                                            raw_text  character_count  \\\n",
       "0  내란 : 대한민국 영토의 전부 또는 일부에서 국가권력을 배제하거나 국헌을 문란하게 ...              274   \n",
       "1  내란목적의 살인 : 대한민국 영토의 전부 또는 일부에서 국가권력을 배제하거나 국헌을...               92   \n",
       "2                              미수범 : 전2조의 미수범은 처벌한다.               21   \n",
       "3  예비, 음모, 선동, 선전 : ①제87조 또는 제88조의 죄를 범할 목적으로 예비 ...              178   \n",
       "4  국헌문란의 정의 : 본장에서 국헌을 문란할 목적이라 함은 다음 각호의 1에 해당함을...              160   \n",
       "\n",
       "  article_raw_id              중분류    소분류  \\\n",
       "0             87  국가 존립과 권위에 대한 죄  내란의 죄   \n",
       "1             88  국가 존립과 권위에 대한 죄  내란의 죄   \n",
       "2             89  국가 존립과 권위에 대한 죄  내란의 죄   \n",
       "3             90  국가 존립과 권위에 대한 죄  내란의 죄   \n",
       "4             91  국가 존립과 권위에 대한 죄  내란의 죄   \n",
       "\n",
       "                                           full_text  \n",
       "0  조항번호 : 제87조\\n조문명 : 내란\\n조문내용 : 대한민국 영토의 전부 또는 일...  \n",
       "1  조항번호 : 제88조\\n조문명 : 내란목적의 살인\\n조문내용 : 대한민국 영토의 전...  \n",
       "2     조항번호 : 제89조\\n조문명 : 미수범\\n조문내용 : 전2조의 미수범은 처벌한다.  \n",
       "3  조항번호 : 제90조\\n조문명 : 예비, 음모, 선동, 선전\\n조문내용 : ①제87...  \n",
       "4  조항번호 : 제91조\\n조문명 : 국헌문란의 정의\\n조문내용 : 본장에서 국헌을 문...  "
      ]
     },
     "execution_count": 15,
     "metadata": {},
     "output_type": "execute_result"
    }
   ],
   "source": [
    "file_path = r\"..\\data\\final_law.csv\"\n",
    "df = pd.read_csv(file_path)\n",
    "df.head()"
   ]
  },
  {
   "cell_type": "code",
   "execution_count": 16,
   "metadata": {},
   "outputs": [],
   "source": [
    "result = (\n",
    "    df.groupby('소분류')['full_text']\n",
    "    .apply(lambda texts: \" \".join(texts.dropna()))\n",
    "    .reset_index()\n",
    "    .rename(columns={'full_text': 'concatenated_text'})\n",
    ")\n",
    "unique_subcategories = result.to_dict(orient='records')"
   ]
  },
  {
   "cell_type": "code",
   "execution_count": 22,
   "metadata": {},
   "outputs": [],
   "source": [
    "    df = pd.read_csv(file_path)                \n",
    "    result = (\n",
    "        df.groupby('중분류')['소분류']\n",
    "        .apply(lambda texts: list(set(texts.dropna())))  # 텍스트들을 리스트로 변환\n",
    "        .reset_index()\n",
    "        .rename(columns={'소분류': 'text_list'})   # 결과 컬럼 이름 변경\n",
    "    )\n",
    "    relevant_fulltext_list = result.to_dict(orient='records')   \n",
    "    # next_node_index = len(all_nodes)\n",
    "    # third_level_nodes = {}"
   ]
  },
  {
   "cell_type": "code",
   "execution_count": 23,
   "metadata": {},
   "outputs": [
    {
     "data": {
      "text/plain": [
       "[{'중분류': '공공의 신용에 대한 죄',\n",
       "  'text_list': ['유가증권, 우표와 인지에 관한 죄', '통화에 관한 죄', '인장에 관한 죄', '문서에 관한 죄']},\n",
       " {'중분류': '공공의 안전과 평온에 대한 죄',\n",
       "  'text_list': ['방화와 실화의 죄',\n",
       "   '공안을 해하는죄',\n",
       "   '교통방해의 죄',\n",
       "   '폭발물에 관한 죄',\n",
       "   '일수와 수리에 관한 죄']},\n",
       " {'중분류': '공중의 건강에 대한 죄', 'text_list': ['먹는 물에 관한 죄', '아편에 관한 죄']},\n",
       " {'중분류': '국가 존립과 권위에 대한 죄',\n",
       "  'text_list': ['외환의 죄', '국교에 관한 죄', '국기에 관한 죄', '내란의 죄']},\n",
       " {'중분류': '국가의 기능에 대한 죄',\n",
       "  'text_list': ['위증과 증거인멸의 죄',\n",
       "   '공무방해에 관한 죄',\n",
       "   '무고의 죄',\n",
       "   '공무원의 직무에 관한 죄',\n",
       "   '도주와 범인은닉의 죄']},\n",
       " {'중분류': '명예와 신용, 업무에 대한 죄', 'text_list': ['신용, 업무와 경매에 관한 죄', '명예에 관한 죄']},\n",
       " {'중분류': '사생활의 평온에 대한 죄', 'text_list': ['주거침입의 죄', '비밀침해의 죄']},\n",
       " {'중분류': '사회의 도덕에 대한 죄',\n",
       "  'text_list': ['도박과 복표에 관한 죄', '성풍속에 관한 죄', '신앙에 관한 죄']},\n",
       " {'중분류': '생명과 신체에 대한 죄',\n",
       "  'text_list': ['유기와 학대의 죄', '폭행의 죄', '과실치사상의 죄', '낙태의 죄', '살인의 죄', '상해의 죄']},\n",
       " {'중분류': '자유에 대한 죄',\n",
       "  'text_list': ['체포와 감금의 죄',\n",
       "   '협박의 죄',\n",
       "   '약취, 유인 및 인신매매의 죄',\n",
       "   '강간과 추행의 죄',\n",
       "   '강요의 죄']},\n",
       " {'중분류': '재산에 대한 죄',\n",
       "  'text_list': ['장물에 관한 죄',\n",
       "   '절도의 죄',\n",
       "   '사기의 죄',\n",
       "   '손괴의 죄',\n",
       "   '횡령의 죄',\n",
       "   '강도의 죄',\n",
       "   '공갈의 죄',\n",
       "   '권리행사를 방해하는 죄',\n",
       "   '배임의 죄']}]"
      ]
     },
     "execution_count": 23,
     "metadata": {},
     "output_type": "execute_result"
    }
   ],
   "source": [
    "relevant_fulltext_list"
   ]
  },
  {
   "cell_type": "code",
   "execution_count": 13,
   "metadata": {},
   "outputs": [
    {
     "data": {
      "text/html": [
       "<div>\n",
       "<style scoped>\n",
       "    .dataframe tbody tr th:only-of-type {\n",
       "        vertical-align: middle;\n",
       "    }\n",
       "\n",
       "    .dataframe tbody tr th {\n",
       "        vertical-align: top;\n",
       "    }\n",
       "\n",
       "    .dataframe thead th {\n",
       "        text-align: right;\n",
       "    }\n",
       "</style>\n",
       "<table border=\"1\" class=\"dataframe\">\n",
       "  <thead>\n",
       "    <tr style=\"text-align: right;\">\n",
       "      <th></th>\n",
       "      <th>A</th>\n",
       "      <th>B</th>\n",
       "      <th>C</th>\n",
       "    </tr>\n",
       "  </thead>\n",
       "  <tbody>\n",
       "    <tr>\n",
       "      <th>0</th>\n",
       "      <td>1</td>\n",
       "      <td>4</td>\n",
       "      <td>7</td>\n",
       "    </tr>\n",
       "    <tr>\n",
       "      <th>1</th>\n",
       "      <td>2</td>\n",
       "      <td>5</td>\n",
       "      <td>8</td>\n",
       "    </tr>\n",
       "    <tr>\n",
       "      <th>2</th>\n",
       "      <td>3</td>\n",
       "      <td>6</td>\n",
       "      <td>9</td>\n",
       "    </tr>\n",
       "  </tbody>\n",
       "</table>\n",
       "</div>"
      ],
      "text/plain": [
       "   A  B  C\n",
       "0  1  4  7\n",
       "1  2  5  8\n",
       "2  3  6  9"
      ]
     },
     "execution_count": 13,
     "metadata": {},
     "output_type": "execute_result"
    }
   ],
   "source": [
    "df = pd.DataFrame({\n",
    "    'A': [1, 2, 3],\n",
    "    'B': [4, 5, 6],\n",
    "    'C': [7, 8, 9]\n",
    "})\n",
    "df"
   ]
  },
  {
   "cell_type": "code",
   "execution_count": null,
   "metadata": {},
   "outputs": [],
   "source": []
  }
 ],
 "metadata": {
  "kernelspec": {
   "display_name": "torch12",
   "language": "python",
   "name": "python3"
  },
  "language_info": {
   "codemirror_mode": {
    "name": "ipython",
    "version": 3
   },
   "file_extension": ".py",
   "mimetype": "text/x-python",
   "name": "python",
   "nbconvert_exporter": "python",
   "pygments_lexer": "ipython3",
   "version": "3.9.19"
  }
 },
 "nbformat": 4,
 "nbformat_minor": 2
}
